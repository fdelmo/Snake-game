{
 "cells": [
  {
   "cell_type": "code",
   "execution_count": 78,
   "metadata": {},
   "outputs": [],
   "source": [
    "import tensorflow as tf\n",
    "from tensorflow.python.keras import layers\n",
    "from tensorflow.python.keras.optimizers import adam_v2\n",
    "from tensorflow.python.keras import losses\n",
    "from typing import List\n",
    "import os\n",
    "import numpy as np"
   ]
  },
  {
   "cell_type": "code",
   "execution_count": 216,
   "metadata": {},
   "outputs": [],
   "source": [
    "class SimpleModel(tf.keras.Model):\n",
    "    \"\"\"\n",
    "    Model class. Quite simple. Complete this docstring is a #TODO\n",
    "    \"\"\"\n",
    "\n",
    "    def __init__(self, hidden_sizes: List, target_size: int) -> None:\n",
    "        \"\"\"\n",
    "        Initialize a QNET with N hidden layers, where N is the length of the \n",
    "        hidden_sizes list. Each layer i has n nodes, being n the value of ith\n",
    "        element of the hidden_sizes list. These layers are activated with a relu\n",
    "        function.\n",
    "\n",
    "        Finally a Dense layer of target_size nodes without activation is used as\n",
    "        an output layer.\n",
    "        \"\"\"\n",
    "        super().__init__()\n",
    "        # self.input_layer = layers.InputLayer(input_shape=input_shape)\n",
    "        self.hidden_layers = []\n",
    "        for count, layer_size in enumerate(hidden_sizes):\n",
    "            if count == 0:\n",
    "                self.hidden_layers.append(layers.Dense(\n",
    "                    layer_size,  activation='relu', name=f'hidden{count}'))\n",
    "            else:\n",
    "                self.hidden_layers.append(layers.Dense(\n",
    "                    layer_size, activation='relu', name=f'hidden{count}'))\n",
    "\n",
    "        self.output_layer = layers.Dense(\n",
    "            target_size, activation=None, name='output')\n",
    "\n",
    "        # TODO: Maybe adding Dropouts to improve the model\n",
    "\n",
    "    def call(self, input):\n",
    "        \"\"\"\n",
    "        Will be called when predict and train.\n",
    "        \"\"\"\n",
    "        for layer in self.hidden_layers:\n",
    "            x = layer(input)\n",
    "            input = tf.identity(x)\n",
    "\n",
    "        return self.output_layer(x)\n",
    "\n",
    "    def save(self, file_name='model.pth'):\n",
    "        \"\"\"\n",
    "        Save the entire model.\n",
    "        \"\"\"\n",
    "        folder_path = './model'\n",
    "        if not os.path.exists(folder_path):\n",
    "            os.makedirs(folder_path)\n",
    "\n",
    "        file_name = os.path.join(folder_path, file_name)\n",
    "        self.save(file_name=file_name)\n"
   ]
  },
  {
   "cell_type": "code",
   "execution_count": 214,
   "metadata": {},
   "outputs": [
    {
     "data": {
      "text/plain": [
       "<tf.Tensor: shape=(1, 10), dtype=float32, numpy=array([[1., 1., 1., 1., 1., 1., 1., 1., 1., 1.]], dtype=float32)>"
      ]
     },
     "execution_count": 214,
     "metadata": {},
     "output_type": "execute_result"
    }
   ],
   "source": [
    "ones = tf.ones((1,10))\n",
    "ones"
   ]
  },
  {
   "cell_type": "code",
   "execution_count": 217,
   "metadata": {},
   "outputs": [
    {
     "name": "stdout",
     "output_type": "stream",
     "text": [
      "WARNING:tensorflow:6 out of the last 6 calls to <function Model.make_predict_function.<locals>.predict_function at 0x00000285B45ABEE0> triggered tf.function retracing. Tracing is expensive and the excessive number of tracings could be due to (1) creating @tf.function repeatedly in a loop, (2) passing tensors with different shapes, (3) passing Python objects instead of tensors. For (1), please define your @tf.function outside of the loop. For (2), @tf.function has reduce_retracing=True option that can avoid unnecessary retracing. For (3), please refer to https://www.tensorflow.org/guide/function#controlling_retracing and https://www.tensorflow.org/api_docs/python/tf/function for  more details.\n",
      "1/1 [==============================] - 0s 89ms/step\n"
     ]
    },
    {
     "data": {
      "text/plain": [
       "array([[ 1.377415  , -0.5137261 ,  0.10575397]], dtype=float32)"
      ]
     },
     "execution_count": 217,
     "metadata": {},
     "output_type": "execute_result"
    }
   ],
   "source": [
    "model = SimpleModel(10,[10,10],3)\n",
    "model.predict(ones)"
   ]
  },
  {
   "cell_type": "code",
   "execution_count": 206,
   "metadata": {},
   "outputs": [],
   "source": [
    "num = ones.numpy()"
   ]
  },
  {
   "cell_type": "code",
   "execution_count": 207,
   "metadata": {},
   "outputs": [
    {
     "data": {
      "text/plain": [
       "array([[1., 1., 1., 1., 1., 1., 1., 1., 1., 1.]], dtype=float32)"
      ]
     },
     "execution_count": 207,
     "metadata": {},
     "output_type": "execute_result"
    }
   ],
   "source": [
    "num"
   ]
  },
  {
   "cell_type": "code",
   "execution_count": null,
   "metadata": {},
   "outputs": [],
   "source": []
  }
 ],
 "metadata": {
  "kernelspec": {
   "display_name": "Python 3.9.6 ('env-Snake': venv)",
   "language": "python",
   "name": "python3"
  },
  "language_info": {
   "codemirror_mode": {
    "name": "ipython",
    "version": 3
   },
   "file_extension": ".py",
   "mimetype": "text/x-python",
   "name": "python",
   "nbconvert_exporter": "python",
   "pygments_lexer": "ipython3",
   "version": "3.9.6"
  },
  "orig_nbformat": 4,
  "vscode": {
   "interpreter": {
    "hash": "9824ed043f8a3b7b5ac8f9434db3b208a499e1bd9026abfba463bedbacfb7ed1"
   }
  }
 },
 "nbformat": 4,
 "nbformat_minor": 2
}
