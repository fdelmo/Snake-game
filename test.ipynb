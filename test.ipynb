{
 "cells": [
  {
   "cell_type": "code",
   "execution_count": 1,
   "metadata": {},
   "outputs": [],
   "source": [
    "import tensorflow as tf\n",
    "from tensorflow.python.keras import layers\n",
    "from tensorflow.python.keras.optimizers import adam_v2\n",
    "from tensorflow.python.keras import losses\n",
    "from typing import List\n",
    "import os\n",
    "import numpy as np"
   ]
  },
  {
   "cell_type": "code",
   "execution_count": 2,
   "metadata": {},
   "outputs": [],
   "source": [
    "class SimpleModel(tf.keras.Model):\n",
    "    \"\"\"\n",
    "    Model class. Quite simple. Complete this docstring is a #TODO\n",
    "    \"\"\"\n",
    "\n",
    "    def __init__(self, hidden_sizes: List, target_size: int) -> None:\n",
    "        \"\"\"\n",
    "        Initialize a QNET with N hidden layers, where N is the length of the \n",
    "        hidden_sizes list. Each layer i has n nodes, being n the value of ith\n",
    "        element of the hidden_sizes list. These layers are activated with a relu\n",
    "        function.\n",
    "\n",
    "        Finally a Dense layer of target_size nodes without activation is used as\n",
    "        an output layer.\n",
    "        \"\"\"\n",
    "        super().__init__()\n",
    "        # self.input_layer = layers.InputLayer(input_shape=input_shape)\n",
    "        self.hidden_layers = []\n",
    "        for count, layer_size in enumerate(hidden_sizes):\n",
    "            if count == 0:\n",
    "                self.hidden_layers.append(layers.Dense(\n",
    "                    layer_size,  activation='relu', name=f'hidden{count}'))\n",
    "            else:\n",
    "                self.hidden_layers.append(layers.Dense(\n",
    "                    layer_size, activation='relu', name=f'hidden{count}'))\n",
    "\n",
    "        self.output_layer = layers.Dense(\n",
    "            target_size, activation=None, name='output')\n",
    "\n",
    "        # TODO: Maybe adding Dropouts to improve the model\n",
    "\n",
    "    def call(self, input):\n",
    "        \"\"\"\n",
    "        Will be called when predict and train.\n",
    "        \"\"\"\n",
    "        for layer in self.hidden_layers:\n",
    "            x = layer(input)\n",
    "            input = tf.identity(x)\n",
    "\n",
    "        return self.output_layer(x)\n",
    "\n",
    "    def save(self, file_name='model.pth'):\n",
    "        \"\"\"\n",
    "        Save the entire model.\n",
    "        \"\"\"\n",
    "        folder_path = './model'\n",
    "        if not os.path.exists(folder_path):\n",
    "            os.makedirs(folder_path)\n",
    "\n",
    "        file_name = os.path.join(folder_path, file_name)\n",
    "        self.save(file_name=file_name)\n"
   ]
  },
  {
   "cell_type": "code",
   "execution_count": 3,
   "metadata": {},
   "outputs": [
    {
     "data": {
      "text/plain": [
       "<tf.Tensor: shape=(1, 10), dtype=float32, numpy=array([[1., 1., 1., 1., 1., 1., 1., 1., 1., 1.]], dtype=float32)>"
      ]
     },
     "execution_count": 3,
     "metadata": {},
     "output_type": "execute_result"
    }
   ],
   "source": [
    "ones = tf.ones((1,10))\n",
    "ones"
   ]
  },
  {
   "cell_type": "code",
   "execution_count": 5,
   "metadata": {},
   "outputs": [
    {
     "name": "stdout",
     "output_type": "stream",
     "text": [
      "1/1 [==============================] - 0s 212ms/step\n"
     ]
    },
    {
     "data": {
      "text/plain": [
       "array([[0.09015599, 0.99018365, 0.46618605]], dtype=float32)"
      ]
     },
     "execution_count": 5,
     "metadata": {},
     "output_type": "execute_result"
    }
   ],
   "source": [
    "model = SimpleModel([10,10],3)\n",
    "model.predict(ones)"
   ]
  },
  {
   "cell_type": "code",
   "execution_count": 7,
   "metadata": {},
   "outputs": [
    {
     "data": {
      "text/plain": [
       "<tf.Tensor: shape=(1, 3), dtype=float32, numpy=array([[0.09015599, 0.99018365, 0.46618605]], dtype=float32)>"
      ]
     },
     "execution_count": 7,
     "metadata": {},
     "output_type": "execute_result"
    }
   ],
   "source": [
    "logit = model(ones)\n",
    "logit"
   ]
  }
 ],
 "metadata": {
  "kernelspec": {
   "display_name": "Python 3.9.6 ('env-Snake': venv)",
   "language": "python",
   "name": "python3"
  },
  "language_info": {
   "codemirror_mode": {
    "name": "ipython",
    "version": 3
   },
   "file_extension": ".py",
   "mimetype": "text/x-python",
   "name": "python",
   "nbconvert_exporter": "python",
   "pygments_lexer": "ipython3",
   "version": "3.9.6"
  },
  "orig_nbformat": 4,
  "vscode": {
   "interpreter": {
    "hash": "9824ed043f8a3b7b5ac8f9434db3b208a499e1bd9026abfba463bedbacfb7ed1"
   }
  }
 },
 "nbformat": 4,
 "nbformat_minor": 2
}
